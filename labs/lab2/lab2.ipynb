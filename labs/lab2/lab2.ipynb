{
 "cells": [
  {
   "cell_type": "code",
   "execution_count": 5,
   "id": "097ed9d8-d1de-487f-a33e-31026b60ec5d",
   "metadata": {},
   "outputs": [
    {
     "name": "stdout",
     "output_type": "stream",
     "text": [
      "\n",
      "Statistics for 'soil_ph':\n",
      "Minimum: 6.00\n",
      "Maximum: 6.90\n",
      "Mean: 6.45\n",
      "Median: 6.45\n",
      "Standard Deviation: 0.29\n"
     ]
    }
   ],
   "source": [
    "\t\n",
    "import pandas as pd\n",
    "import numpy as np\n",
    "\n",
    "def load_data(file_path):\n",
    "    \"\"\"Load dataset and handle file not found error.\"\"\"\n",
    "    try:\n",
    "        df = pd.read_csv(file_path)\n",
    "        return df\n",
    "    except FileNotFoundError:\n",
    "        print(f\"Error: File '{file_path}' not found.\")\n",
    "        return None\n",
    "\n",
    "def clean_data(df):\n",
    "    \"\"\"Handle missing values by filling with column mean.\"\"\"\n",
    "    df.fillna(df.mean(numeric_only=True), inplace=True)\n",
    "    return df\n",
    "\n",
    "def compute_statistics(df, column):\n",
    "    \"\"\"Compute and print descriptive statistics for a given column.\"\"\"\n",
    "    if column not in df.columns:\n",
    "        print(f\"Error: Column '{column}' not found in dataset.\")\n",
    "        return\n",
    "\n",
    "    stats = {\n",
    "        \"Minimum\": df[column].min(),\n",
    "        \"Maximum\": df[column].max(),\n",
    "        \"Mean\": df[column].mean(),\n",
    "        \"Median\": df[column].median(),\n",
    "        \"Standard Deviation\": df[column].std()\n",
    "    }\n",
    "    \n",
    "    print(f\"\\nStatistics for '{column}':\")\n",
    "    for key, value in stats.items():\n",
    "        print(f\"{key}: {value:.2f}\")\n",
    "\n",
    "if __name__ == \"__main__\":\n",
    "    file_path = \"../../datasets/soil_test.csv\"  # Adjust path if needed\n",
    "    df = load_data(file_path)\n",
    "\n",
    "    if df is not None:\n",
    "        df = clean_data(df)\n",
    "        compute_statistics(df, \"soil_ph\")  # Ensure column exists"
   ]
  },
  {
   "cell_type": "code",
   "execution_count": null,
   "id": "082c45aa-7c11-41c1-9f87-cbf2d66e24a2",
   "metadata": {},
   "outputs": [],
   "source": []
  }
 ],
 "metadata": {
  "kernelspec": {
   "display_name": "Python [conda env:base] *",
   "language": "python",
   "name": "conda-base-py"
  },
  "language_info": {
   "codemirror_mode": {
    "name": "ipython",
    "version": 3
   },
   "file_extension": ".py",
   "mimetype": "text/x-python",
   "name": "python",
   "nbconvert_exporter": "python",
   "pygments_lexer": "ipython3",
   "version": "3.12.7"
  }
 },
 "nbformat": 4,
 "nbformat_minor": 5
}
